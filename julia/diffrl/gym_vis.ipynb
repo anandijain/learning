{
 "cells": [
  {
   "cell_type": "code",
   "execution_count": 1,
   "metadata": {},
   "outputs": [],
   "source": [
    "using Gym"
   ]
  },
  {
   "cell_type": "code",
   "execution_count": null,
   "metadata": {},
   "outputs": [],
   "source": [
    "using Gym\n",
    "env = make(\"CartPole-v0\", :human_pane)\n",
    "\n",
    "actions = [sample(env._env.action_space) for i=1:1000]\n",
    "i = 1\n",
    "done = false\n",
    "reset!(env)\n",
    "# for trial in \n",
    "while i <= length(actions) && !done\n",
    "    global i, done\n",
    "    a, b, done, d = step!(env, actions[i])\n",
    "    render!(env)\n",
    "    i += 1\n",
    "end"
   ]
  }
 ],
 "metadata": {
  "kernelspec": {
   "display_name": "Julia 1.1.1",
   "language": "julia",
   "name": "julia-1.1"
  },
  "language_info": {
   "file_extension": ".jl",
   "mimetype": "application/julia",
   "name": "julia",
   "version": "1.1.1"
  }
 },
 "nbformat": 4,
 "nbformat_minor": 2
}
