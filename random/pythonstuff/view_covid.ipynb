{
 "cells": [
  {
   "cell_type": "code",
   "execution_count": 16,
   "metadata": {},
   "outputs": [],
   "source": [
    "from Bio.PDB import *\n",
    "import nglview as nv\n",
    "import glob"
   ]
  },
  {
   "cell_type": "code",
   "execution_count": 17,
   "metadata": {},
   "outputs": [
    {
     "name": "stdout",
     "output_type": "stream",
     "text": [
      "3.6.9 (default, Nov  7 2019, 10:44:02) \n",
      "[GCC 8.3.0]\n",
      "M_protein.pdb  nsp4.pdb  PL-PRO_C_terminal.pdb\tREADME\t\t Untitled.ipynb\r\n",
      "nsp2.pdb       nsp6.pdb  Protein_3a.pdb\t\tUntitled1.ipynb\r\n"
     ]
    }
   ],
   "source": [
    "import sys\n",
    "print(sys.version)\n",
    "!ls"
   ]
  },
  {
   "cell_type": "code",
   "execution_count": 18,
   "metadata": {},
   "outputs": [
    {
     "name": "stdout",
     "output_type": "stream",
     "text": [
      "['nsp2.pdb', 'nsp6.pdb', 'M_protein.pdb', 'PL-PRO_C_terminal.pdb', 'Protein_3a.pdb', 'nsp4.pdb']\n"
     ]
    }
   ],
   "source": [
    "fns = glob.glob('**.pdb')\n",
    "print(fns)"
   ]
  },
  {
   "cell_type": "code",
   "execution_count": 20,
   "metadata": {},
   "outputs": [],
   "source": [
    "parser = PDBParser()\n",
    "structures = {fn.split('.')[0] : parser.get_structure('', fn) for fn in fns}"
   ]
  },
  {
   "cell_type": "code",
   "execution_count": 22,
   "metadata": {},
   "outputs": [
    {
     "name": "stdout",
     "output_type": "stream",
     "text": [
      "{'nsp2': <Structure id=>, 'nsp6': <Structure id=>, 'M_protein': <Structure id=>, 'PL-PRO_C_terminal': <Structure id=>, 'Protein_3a': <Structure id=>, 'nsp4': <Structure id=>}\n"
     ]
    }
   ],
   "source": [
    "print(structures)"
   ]
  },
  {
   "cell_type": "code",
   "execution_count": 23,
   "metadata": {},
   "outputs": [
    {
     "name": "stdout",
     "output_type": "stream",
     "text": [
      "nsp2\n",
      "nsp6\n",
      "M_protein\n",
      "PL-PRO_C_terminal\n",
      "Protein_3a\n",
      "nsp4\n"
     ]
    }
   ],
   "source": [
    "views = []\n",
    "for k, v in structures.items():\n",
    "    print(k)\n",
    "    view = nv.show_biopython(v)\n",
    "    views.append(view)"
   ]
  },
  {
   "cell_type": "code",
   "execution_count": 26,
   "metadata": {},
   "outputs": [
    {
     "data": {
      "application/vnd.jupyter.widget-view+json": {
       "model_id": "abffe1a8f4da4d17976aa2e1a5c4d825",
       "version_major": 2,
       "version_minor": 0
      },
      "text/plain": [
       "NGLWidget()"
      ]
     },
     "metadata": {},
     "output_type": "display_data"
    }
   ],
   "source": [
    "views[1]"
   ]
  }
 ],
 "metadata": {
  "kernelspec": {
   "display_name": "Python 3",
   "language": "python",
   "name": "python3"
  },
  "language_info": {
   "codemirror_mode": {
    "name": "ipython",
    "version": 3
   },
   "file_extension": ".py",
   "mimetype": "text/x-python",
   "name": "python",
   "nbconvert_exporter": "python",
   "pygments_lexer": "ipython3",
   "version": "3.6.9"
  }
 },
 "nbformat": 4,
 "nbformat_minor": 2
}
